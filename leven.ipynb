{
 "cells": [
  {
   "cell_type": "code",
   "execution_count": 1,
   "metadata": {},
   "outputs": [],
   "source": [
    "import pandas as pd\n",
    "from Levenshtein import distance as levenshtein_distance"
   ]
  },
  {
   "cell_type": "code",
   "execution_count": 2,
   "metadata": {},
   "outputs": [],
   "source": [
    "df = pd.read_csv('perfectData.csv')"
   ]
  },
  {
   "cell_type": "code",
   "execution_count": 3,
   "metadata": {},
   "outputs": [
    {
     "data": {
      "text/html": [
       "<div>\n",
       "<style scoped>\n",
       "    .dataframe tbody tr th:only-of-type {\n",
       "        vertical-align: middle;\n",
       "    }\n",
       "\n",
       "    .dataframe tbody tr th {\n",
       "        vertical-align: top;\n",
       "    }\n",
       "\n",
       "    .dataframe thead th {\n",
       "        text-align: right;\n",
       "    }\n",
       "</style>\n",
       "<table border=\"1\" class=\"dataframe\">\n",
       "  <thead>\n",
       "    <tr style=\"text-align: right;\">\n",
       "      <th></th>\n",
       "      <th>ID</th>\n",
       "      <th>inst</th>\n",
       "      <th>city</th>\n",
       "      <th>state</th>\n",
       "      <th>zip</th>\n",
       "    </tr>\n",
       "  </thead>\n",
       "  <tbody>\n",
       "    <tr>\n",
       "      <th>0</th>\n",
       "      <td>100654</td>\n",
       "      <td>Alabama A &amp; M University</td>\n",
       "      <td>Normal</td>\n",
       "      <td>AL</td>\n",
       "      <td>35899</td>\n",
       "    </tr>\n",
       "    <tr>\n",
       "      <th>1</th>\n",
       "      <td>100690</td>\n",
       "      <td>Amridge University</td>\n",
       "      <td>Montgomery</td>\n",
       "      <td>AL</td>\n",
       "      <td>36117-3553</td>\n",
       "    </tr>\n",
       "    <tr>\n",
       "      <th>2</th>\n",
       "      <td>100690</td>\n",
       "      <td>Amridge University</td>\n",
       "      <td>Montgomery</td>\n",
       "      <td>--</td>\n",
       "      <td>36117-3553</td>\n",
       "    </tr>\n",
       "    <tr>\n",
       "      <th>3</th>\n",
       "      <td>100760</td>\n",
       "      <td>Central Alabama Community College</td>\n",
       "      <td>Alexander City</td>\n",
       "      <td>AL</td>\n",
       "      <td>35010</td>\n",
       "    </tr>\n",
       "    <tr>\n",
       "      <th>4</th>\n",
       "      <td>100812</td>\n",
       "      <td>Athens State University</td>\n",
       "      <td>Athens</td>\n",
       "      <td>AL</td>\n",
       "      <td>35611</td>\n",
       "    </tr>\n",
       "  </tbody>\n",
       "</table>\n",
       "</div>"
      ],
      "text/plain": [
       "       ID                               inst            city state         zip\n",
       "0  100654           Alabama A & M University          Normal    AL       35899\n",
       "1  100690                 Amridge University      Montgomery    AL  36117-3553\n",
       "2  100690                 Amridge University      Montgomery    --  36117-3553\n",
       "3  100760  Central Alabama Community College  Alexander City    AL       35010\n",
       "4  100812            Athens State University          Athens    AL       35611"
      ]
     },
     "execution_count": 3,
     "metadata": {},
     "output_type": "execute_result"
    }
   ],
   "source": [
    "df.head()"
   ]
  },
  {
   "cell_type": "code",
   "execution_count": 4,
   "metadata": {},
   "outputs": [
    {
     "name": "stdout",
     "output_type": "stream",
     "text": [
      "['Alabama A & M University' 'Amridge University'\n",
      " 'Central Alabama Community College' ...\n",
      " 'Galen Health Institutes-Pikeville'\n",
      " 'Commonwealth University of Pennsylvania' 'Radford University-Carilion']\n"
     ]
    }
   ],
   "source": [
    "unique_names = df['inst'].unique()\n",
    "print(unique_names)"
   ]
  },
  {
   "cell_type": "code",
   "execution_count": 5,
   "metadata": {},
   "outputs": [],
   "source": [
    "unique_df = pd.DataFrame(unique_names, columns=['inst'])"
   ]
  },
  {
   "cell_type": "code",
   "execution_count": 6,
   "metadata": {},
   "outputs": [
    {
     "data": {
      "text/html": [
       "<div>\n",
       "<style scoped>\n",
       "    .dataframe tbody tr th:only-of-type {\n",
       "        vertical-align: middle;\n",
       "    }\n",
       "\n",
       "    .dataframe tbody tr th {\n",
       "        vertical-align: top;\n",
       "    }\n",
       "\n",
       "    .dataframe thead th {\n",
       "        text-align: right;\n",
       "    }\n",
       "</style>\n",
       "<table border=\"1\" class=\"dataframe\">\n",
       "  <thead>\n",
       "    <tr style=\"text-align: right;\">\n",
       "      <th></th>\n",
       "      <th>inst</th>\n",
       "    </tr>\n",
       "  </thead>\n",
       "  <tbody>\n",
       "    <tr>\n",
       "      <th>0</th>\n",
       "      <td>Alabama A &amp; M University</td>\n",
       "    </tr>\n",
       "    <tr>\n",
       "      <th>1</th>\n",
       "      <td>Amridge University</td>\n",
       "    </tr>\n",
       "    <tr>\n",
       "      <th>2</th>\n",
       "      <td>Central Alabama Community College</td>\n",
       "    </tr>\n",
       "    <tr>\n",
       "      <th>3</th>\n",
       "      <td>Athens State University</td>\n",
       "    </tr>\n",
       "    <tr>\n",
       "      <th>4</th>\n",
       "      <td>Auburn University</td>\n",
       "    </tr>\n",
       "    <tr>\n",
       "      <th>...</th>\n",
       "      <td>...</td>\n",
       "    </tr>\n",
       "    <tr>\n",
       "      <th>4730</th>\n",
       "      <td>National Tractor Trailer School</td>\n",
       "    </tr>\n",
       "    <tr>\n",
       "      <th>4731</th>\n",
       "      <td>Galen Health Institutes-Houston</td>\n",
       "    </tr>\n",
       "    <tr>\n",
       "      <th>4732</th>\n",
       "      <td>Galen Health Institutes-Pikeville</td>\n",
       "    </tr>\n",
       "    <tr>\n",
       "      <th>4733</th>\n",
       "      <td>Commonwealth University of Pennsylvania</td>\n",
       "    </tr>\n",
       "    <tr>\n",
       "      <th>4734</th>\n",
       "      <td>Radford University-Carilion</td>\n",
       "    </tr>\n",
       "  </tbody>\n",
       "</table>\n",
       "<p>4735 rows × 1 columns</p>\n",
       "</div>"
      ],
      "text/plain": [
       "                                         inst\n",
       "0                    Alabama A & M University\n",
       "1                          Amridge University\n",
       "2           Central Alabama Community College\n",
       "3                     Athens State University\n",
       "4                           Auburn University\n",
       "...                                       ...\n",
       "4730          National Tractor Trailer School\n",
       "4731          Galen Health Institutes-Houston\n",
       "4732        Galen Health Institutes-Pikeville\n",
       "4733  Commonwealth University of Pennsylvania\n",
       "4734              Radford University-Carilion\n",
       "\n",
       "[4735 rows x 1 columns]"
      ]
     },
     "execution_count": 6,
     "metadata": {},
     "output_type": "execute_result"
    }
   ],
   "source": [
    "unique_df"
   ]
  },
  {
   "cell_type": "code",
   "execution_count": 7,
   "metadata": {},
   "outputs": [],
   "source": [
    "def generate_short_form(name):\n",
    "    words = name.split()\n",
    "    short_form = ''.join([word[0].upper() for word in words if word.lower() not in ['of', 'and', 'the']])\n",
    "    return short_form"
   ]
  },
  {
   "cell_type": "code",
   "execution_count": 8,
   "metadata": {},
   "outputs": [],
   "source": [
    "unique_df['short_form'] = unique_df['inst'].apply(generate_short_form)\n"
   ]
  },
  {
   "cell_type": "code",
   "execution_count": 9,
   "metadata": {},
   "outputs": [
    {
     "data": {
      "text/html": [
       "<div>\n",
       "<style scoped>\n",
       "    .dataframe tbody tr th:only-of-type {\n",
       "        vertical-align: middle;\n",
       "    }\n",
       "\n",
       "    .dataframe tbody tr th {\n",
       "        vertical-align: top;\n",
       "    }\n",
       "\n",
       "    .dataframe thead th {\n",
       "        text-align: right;\n",
       "    }\n",
       "</style>\n",
       "<table border=\"1\" class=\"dataframe\">\n",
       "  <thead>\n",
       "    <tr style=\"text-align: right;\">\n",
       "      <th></th>\n",
       "      <th>inst</th>\n",
       "      <th>short_form</th>\n",
       "    </tr>\n",
       "  </thead>\n",
       "  <tbody>\n",
       "    <tr>\n",
       "      <th>0</th>\n",
       "      <td>Alabama A &amp; M University</td>\n",
       "      <td>AA&amp;MU</td>\n",
       "    </tr>\n",
       "    <tr>\n",
       "      <th>1</th>\n",
       "      <td>Amridge University</td>\n",
       "      <td>AU</td>\n",
       "    </tr>\n",
       "    <tr>\n",
       "      <th>2</th>\n",
       "      <td>Central Alabama Community College</td>\n",
       "      <td>CACC</td>\n",
       "    </tr>\n",
       "    <tr>\n",
       "      <th>3</th>\n",
       "      <td>Athens State University</td>\n",
       "      <td>ASU</td>\n",
       "    </tr>\n",
       "    <tr>\n",
       "      <th>4</th>\n",
       "      <td>Auburn University</td>\n",
       "      <td>AU</td>\n",
       "    </tr>\n",
       "    <tr>\n",
       "      <th>...</th>\n",
       "      <td>...</td>\n",
       "      <td>...</td>\n",
       "    </tr>\n",
       "    <tr>\n",
       "      <th>4730</th>\n",
       "      <td>National Tractor Trailer School</td>\n",
       "      <td>NTTS</td>\n",
       "    </tr>\n",
       "    <tr>\n",
       "      <th>4731</th>\n",
       "      <td>Galen Health Institutes-Houston</td>\n",
       "      <td>GHI</td>\n",
       "    </tr>\n",
       "    <tr>\n",
       "      <th>4732</th>\n",
       "      <td>Galen Health Institutes-Pikeville</td>\n",
       "      <td>GHI</td>\n",
       "    </tr>\n",
       "    <tr>\n",
       "      <th>4733</th>\n",
       "      <td>Commonwealth University of Pennsylvania</td>\n",
       "      <td>CUP</td>\n",
       "    </tr>\n",
       "    <tr>\n",
       "      <th>4734</th>\n",
       "      <td>Radford University-Carilion</td>\n",
       "      <td>RU</td>\n",
       "    </tr>\n",
       "  </tbody>\n",
       "</table>\n",
       "<p>4735 rows × 2 columns</p>\n",
       "</div>"
      ],
      "text/plain": [
       "                                         inst short_form\n",
       "0                    Alabama A & M University      AA&MU\n",
       "1                          Amridge University         AU\n",
       "2           Central Alabama Community College       CACC\n",
       "3                     Athens State University        ASU\n",
       "4                           Auburn University         AU\n",
       "...                                       ...        ...\n",
       "4730          National Tractor Trailer School       NTTS\n",
       "4731          Galen Health Institutes-Houston        GHI\n",
       "4732        Galen Health Institutes-Pikeville        GHI\n",
       "4733  Commonwealth University of Pennsylvania        CUP\n",
       "4734              Radford University-Carilion         RU\n",
       "\n",
       "[4735 rows x 2 columns]"
      ]
     },
     "execution_count": 9,
     "metadata": {},
     "output_type": "execute_result"
    }
   ],
   "source": [
    "unique_df"
   ]
  },
  {
   "cell_type": "code",
   "execution_count": 10,
   "metadata": {},
   "outputs": [],
   "source": [
    "df = df.merge(unique_df, on='inst', how='left')"
   ]
  },
  {
   "cell_type": "code",
   "execution_count": 11,
   "metadata": {},
   "outputs": [
    {
     "data": {
      "text/html": [
       "<div>\n",
       "<style scoped>\n",
       "    .dataframe tbody tr th:only-of-type {\n",
       "        vertical-align: middle;\n",
       "    }\n",
       "\n",
       "    .dataframe tbody tr th {\n",
       "        vertical-align: top;\n",
       "    }\n",
       "\n",
       "    .dataframe thead th {\n",
       "        text-align: right;\n",
       "    }\n",
       "</style>\n",
       "<table border=\"1\" class=\"dataframe\">\n",
       "  <thead>\n",
       "    <tr style=\"text-align: right;\">\n",
       "      <th></th>\n",
       "      <th>ID</th>\n",
       "      <th>inst</th>\n",
       "      <th>city</th>\n",
       "      <th>state</th>\n",
       "      <th>zip</th>\n",
       "      <th>short_form</th>\n",
       "    </tr>\n",
       "  </thead>\n",
       "  <tbody>\n",
       "    <tr>\n",
       "      <th>0</th>\n",
       "      <td>100654</td>\n",
       "      <td>Alabama A &amp; M University</td>\n",
       "      <td>Normal</td>\n",
       "      <td>AL</td>\n",
       "      <td>35899</td>\n",
       "      <td>AA&amp;MU</td>\n",
       "    </tr>\n",
       "    <tr>\n",
       "      <th>1</th>\n",
       "      <td>100690</td>\n",
       "      <td>Amridge University</td>\n",
       "      <td>Montgomery</td>\n",
       "      <td>AL</td>\n",
       "      <td>36117-3553</td>\n",
       "      <td>AU</td>\n",
       "    </tr>\n",
       "    <tr>\n",
       "      <th>2</th>\n",
       "      <td>100690</td>\n",
       "      <td>Amridge University</td>\n",
       "      <td>Montgomery</td>\n",
       "      <td>--</td>\n",
       "      <td>36117-3553</td>\n",
       "      <td>AU</td>\n",
       "    </tr>\n",
       "    <tr>\n",
       "      <th>3</th>\n",
       "      <td>100760</td>\n",
       "      <td>Central Alabama Community College</td>\n",
       "      <td>Alexander City</td>\n",
       "      <td>AL</td>\n",
       "      <td>35010</td>\n",
       "      <td>CACC</td>\n",
       "    </tr>\n",
       "    <tr>\n",
       "      <th>4</th>\n",
       "      <td>100812</td>\n",
       "      <td>Athens State University</td>\n",
       "      <td>Athens</td>\n",
       "      <td>AL</td>\n",
       "      <td>35611</td>\n",
       "      <td>ASU</td>\n",
       "    </tr>\n",
       "    <tr>\n",
       "      <th>...</th>\n",
       "      <td>...</td>\n",
       "      <td>...</td>\n",
       "      <td>...</td>\n",
       "      <td>...</td>\n",
       "      <td>...</td>\n",
       "      <td>...</td>\n",
       "    </tr>\n",
       "    <tr>\n",
       "      <th>5016</th>\n",
       "      <td>498474</td>\n",
       "      <td>Galen Health Institutes-Houston</td>\n",
       "      <td>Houston</td>\n",
       "      <td>TX</td>\n",
       "      <td>77041-8241</td>\n",
       "      <td>GHI</td>\n",
       "    </tr>\n",
       "    <tr>\n",
       "      <th>5017</th>\n",
       "      <td>498483</td>\n",
       "      <td>Galen Health Institutes-Pikeville</td>\n",
       "      <td>Pikeville</td>\n",
       "      <td>KY</td>\n",
       "      <td>41501-1321</td>\n",
       "      <td>GHI</td>\n",
       "    </tr>\n",
       "    <tr>\n",
       "      <th>5018</th>\n",
       "      <td>498553</td>\n",
       "      <td>Stellar Career College</td>\n",
       "      <td>Chicago</td>\n",
       "      <td>IL</td>\n",
       "      <td>95356</td>\n",
       "      <td>SCC</td>\n",
       "    </tr>\n",
       "    <tr>\n",
       "      <th>5019</th>\n",
       "      <td>498562</td>\n",
       "      <td>Commonwealth University of Pennsylvania</td>\n",
       "      <td>Bloomsburg</td>\n",
       "      <td>PA</td>\n",
       "      <td>17815</td>\n",
       "      <td>CUP</td>\n",
       "    </tr>\n",
       "    <tr>\n",
       "      <th>5020</th>\n",
       "      <td>Not available</td>\n",
       "      <td>Radford University-Carilion</td>\n",
       "      <td>Not available</td>\n",
       "      <td>VA</td>\n",
       "      <td>Not available</td>\n",
       "      <td>RU</td>\n",
       "    </tr>\n",
       "  </tbody>\n",
       "</table>\n",
       "<p>5021 rows × 6 columns</p>\n",
       "</div>"
      ],
      "text/plain": [
       "                 ID                                     inst            city  \\\n",
       "0            100654                 Alabama A & M University          Normal   \n",
       "1            100690                       Amridge University      Montgomery   \n",
       "2            100690                       Amridge University      Montgomery   \n",
       "3            100760        Central Alabama Community College  Alexander City   \n",
       "4            100812                  Athens State University          Athens   \n",
       "...             ...                                      ...             ...   \n",
       "5016         498474          Galen Health Institutes-Houston         Houston   \n",
       "5017         498483        Galen Health Institutes-Pikeville       Pikeville   \n",
       "5018         498553                   Stellar Career College         Chicago   \n",
       "5019         498562  Commonwealth University of Pennsylvania      Bloomsburg   \n",
       "5020  Not available              Radford University-Carilion   Not available   \n",
       "\n",
       "     state            zip short_form  \n",
       "0       AL          35899      AA&MU  \n",
       "1       AL     36117-3553         AU  \n",
       "2       --     36117-3553         AU  \n",
       "3       AL          35010       CACC  \n",
       "4       AL          35611        ASU  \n",
       "...    ...            ...        ...  \n",
       "5016    TX     77041-8241        GHI  \n",
       "5017    KY     41501-1321        GHI  \n",
       "5018    IL          95356        SCC  \n",
       "5019    PA          17815        CUP  \n",
       "5020    VA  Not available         RU  \n",
       "\n",
       "[5021 rows x 6 columns]"
      ]
     },
     "execution_count": 11,
     "metadata": {},
     "output_type": "execute_result"
    }
   ],
   "source": [
    "df"
   ]
  },
  {
   "cell_type": "code",
   "execution_count": 12,
   "metadata": {},
   "outputs": [],
   "source": [
    "df.to_csv('institutions_with_short_forms.csv', index=False)"
   ]
  },
  {
   "cell_type": "code",
   "execution_count": 13,
   "metadata": {},
   "outputs": [
    {
     "name": "stdout",
     "output_type": "stream",
     "text": [
      "                 ID                                     inst            city  \\\n",
      "0            100654                 Alabama A & M University          Normal   \n",
      "1            100690                       Amridge University      Montgomery   \n",
      "2            100690                       Amridge University      Montgomery   \n",
      "3            100760        Central Alabama Community College  Alexander City   \n",
      "4            100812                  Athens State University          Athens   \n",
      "...             ...                                      ...             ...   \n",
      "5016         498474          Galen Health Institutes-Houston         Houston   \n",
      "5017         498483        Galen Health Institutes-Pikeville       Pikeville   \n",
      "5018         498553                   Stellar Career College         Chicago   \n",
      "5019         498562  Commonwealth University of Pennsylvania      Bloomsburg   \n",
      "5020  Not available              Radford University-Carilion   Not available   \n",
      "\n",
      "     state            zip short_form  \n",
      "0       AL          35899      AA&MU  \n",
      "1       AL     36117-3553         AU  \n",
      "2       --     36117-3553         AU  \n",
      "3       AL          35010       CACC  \n",
      "4       AL          35611        ASU  \n",
      "...    ...            ...        ...  \n",
      "5016    TX     77041-8241        GHI  \n",
      "5017    KY     41501-1321        GHI  \n",
      "5018    IL          95356        SCC  \n",
      "5019    PA          17815        CUP  \n",
      "5020    VA  Not available         RU  \n",
      "\n",
      "[5021 rows x 6 columns]\n"
     ]
    }
   ],
   "source": [
    "print(df)"
   ]
  },
  {
   "cell_type": "code",
   "execution_count": 14,
   "metadata": {},
   "outputs": [],
   "source": [
    "df = pd.read_csv('institutions_with_short_forms.csv')"
   ]
  },
  {
   "cell_type": "code",
   "execution_count": 15,
   "metadata": {},
   "outputs": [],
   "source": [
    "def find_closest_match(input_name, df):\n",
    "    closest_match = None\n",
    "    min_dist = float('inf')\n",
    "    for index, row in df.iterrows():\n",
    "        distance_instnm = levenshtein_distance(input_name.lower(), row['inst'].lower())\n",
    "        distance_short_form = levenshtein_distance(input_name.lower(), row['short_form'].lower())\n",
    "        if distance_instnm < min_dist:\n",
    "            min_dist = distance_instnm\n",
    "            closest_match = row\n",
    "\n",
    "        if distance_short_form < min_dist:\n",
    "            min_dist = distance_short_form\n",
    "            closest_match = row\n",
    "\n",
    "    return closest_match"
   ]
  },
  {
   "cell_type": "code",
   "execution_count": 16,
   "metadata": {},
   "outputs": [
    {
     "name": "stdout",
     "output_type": "stream",
     "text": [
      "Closest match for 'AU':\n",
      "ID                        100690\n",
      "inst          Amridge University\n",
      "city                  Montgomery\n",
      "state                         AL\n",
      "zip                   36117-3553\n",
      "short_form                    AU\n",
      "Name: 1, dtype: object\n",
      "\n"
     ]
    }
   ],
   "source": [
    "input_name = 'AU'\n",
    "closest_match = find_closest_match(input_name, df)\n",
    "print(f\"Closest match for '{input_name}':\\n{closest_match}\\n\")"
   ]
  },
  {
   "cell_type": "code",
   "execution_count": 17,
   "metadata": {},
   "outputs": [
    {
     "name": "stdout",
     "output_type": "stream",
     "text": [
      "Closest match for 'Amridge University':\n",
      "ID                        100690\n",
      "inst          Amridge University\n",
      "city                  Montgomery\n",
      "state                         AL\n",
      "zip                   36117-3553\n",
      "short_form                    AU\n",
      "Name: 1, dtype: object\n"
     ]
    }
   ],
   "source": [
    "input_name = 'Amridge University'\n",
    "closest_match = find_closest_match(input_name, df)\n",
    "print(f\"Closest match for '{input_name}':\\n{closest_match}\")"
   ]
  },
  {
   "cell_type": "code",
   "execution_count": 18,
   "metadata": {},
   "outputs": [
    {
     "name": "stdout",
     "output_type": "stream",
     "text": [
      "Closest match for 'ASU':\n",
      "ID                             100812\n",
      "inst          Athens State University\n",
      "city                           Athens\n",
      "state                              AL\n",
      "zip                             35611\n",
      "short_form                        ASU\n",
      "Name: 4, dtype: object\n",
      "\n"
     ]
    }
   ],
   "source": [
    "input_name = 'ASU'\n",
    "closest_match = find_closest_match(input_name, df)\n",
    "print(f\"Closest match for '{input_name}':\\n{closest_match}\\n\")"
   ]
  },
  {
   "cell_type": "code",
   "execution_count": 19,
   "metadata": {},
   "outputs": [
    {
     "name": "stdout",
     "output_type": "stream",
     "text": [
      "Closest match for 'Alabama State University':\n",
      "ID                              100654\n",
      "inst          Alabama A & M University\n",
      "city                            Normal\n",
      "state                               AL\n",
      "zip                              35899\n",
      "short_form                       AA&MU\n",
      "Name: 0, dtype: object\n",
      "\n"
     ]
    }
   ],
   "source": [
    "input_name = 'Alabama State University'\n",
    "closest_match = find_closest_match(input_name, df)\n",
    "print(f\"Closest match for '{input_name}':\\n{closest_match}\\n\")"
   ]
  },
  {
   "cell_type": "code",
   "execution_count": 20,
   "metadata": {},
   "outputs": [
    {
     "name": "stdout",
     "output_type": "stream",
     "text": [
      "Closest match for 'Athens State University':\n",
      "ID                             100812\n",
      "inst          Athens State University\n",
      "city                           Athens\n",
      "state                              AL\n",
      "zip                             35611\n",
      "short_form                        ASU\n",
      "Name: 4, dtype: object\n",
      "\n"
     ]
    }
   ],
   "source": [
    "input_name = 'Athens State University'\n",
    "closest_match = find_closest_match(input_name, df)\n",
    "print(f\"Closest match for '{input_name}':\\n{closest_match}\\n\")"
   ]
  },
  {
   "cell_type": "code",
   "execution_count": null,
   "metadata": {},
   "outputs": [],
   "source": []
  }
 ],
 "metadata": {
  "kernelspec": {
   "display_name": "Python 3",
   "language": "python",
   "name": "python3"
  },
  "language_info": {
   "codemirror_mode": {
    "name": "ipython",
    "version": 3
   },
   "file_extension": ".py",
   "mimetype": "text/x-python",
   "name": "python",
   "nbconvert_exporter": "python",
   "pygments_lexer": "ipython3",
   "version": "3.11.5"
  }
 },
 "nbformat": 4,
 "nbformat_minor": 2
}
