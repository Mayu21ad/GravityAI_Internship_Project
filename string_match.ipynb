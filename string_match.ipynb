{
 "cells": [
  {
   "cell_type": "code",
   "execution_count": 10,
   "metadata": {},
   "outputs": [],
   "source": [
    "import pandas as pd\n",
    "from Levenshtein import distance as levenshtein_distance"
   ]
  },
  {
   "cell_type": "code",
   "execution_count": 11,
   "metadata": {},
   "outputs": [],
   "source": [
    "df1 = pd.read_csv('List1.csv')\n",
    "df2 = pd.read_csv('processed_List2.csv')"
   ]
  },
  {
   "cell_type": "code",
   "execution_count": 12,
   "metadata": {},
   "outputs": [],
   "source": [
    "def match_colleges(name1, name2, threshold=5):\n",
    "    return levenshtein_distance(name1, name2) <= threshold"
   ]
  },
  {
   "cell_type": "code",
   "execution_count": 13,
   "metadata": {},
   "outputs": [],
   "source": [
    "matches = []\n",
    "matched_colleges_df1 = set()"
   ]
  },
  {
   "cell_type": "code",
   "execution_count": 15,
   "metadata": {},
   "outputs": [
    {
     "name": "stdout",
     "output_type": "stream",
     "text": [
      "Total Matches: 4788\n",
      "Total Mismatches: 1696\n"
     ]
    }
   ],
   "source": [
    "for index1, row1 in df1.iterrows():\n",
    "    matched = False\n",
    "    for index2, row2 in df2.iterrows():\n",
    "        if match_colleges(row1['INSTNM'], row2['inst']):\n",
    "            matches.append((row1['INSTNM'], row2['inst'], True))\n",
    "            matched_colleges_df1.add(row1['INSTNM'])\n",
    "            matched = True\n",
    "            break\n",
    "    if not matched:\n",
    "        matches.append((row1['INSTNM'], '', False))\n",
    "\n",
    "matches_df = pd.DataFrame(matches, columns=['List1_college_name', 'List2_college_name', 'Matched'])\n",
    "\n",
    "# Creating a DataFrame for mismatched colleges from df1\n",
    "mismatched_colleges_df1 = df1[~df1['INSTNM'].isin(matched_colleges_df1)]\n",
    "mismatched_colleges_df1.to_csv('mismatched_colleges.csv', index=False)\n",
    "\n",
    "total_matches = matches_df['Matched'].sum()\n",
    "total_mismatches = len(df1) - total_matches\n",
    "print(\"Total Matches:\", total_matches)\n",
    "print(\"Total Mismatches:\", total_mismatches)"
   ]
  }
 ],
 "metadata": {
  "kernelspec": {
   "display_name": "Python 3",
   "language": "python",
   "name": "python3"
  },
  "language_info": {
   "codemirror_mode": {
    "name": "ipython",
    "version": 3
   },
   "file_extension": ".py",
   "mimetype": "text/x-python",
   "name": "python",
   "nbconvert_exporter": "python",
   "pygments_lexer": "ipython3",
   "version": "3.11.5"
  }
 },
 "nbformat": 4,
 "nbformat_minor": 2
}
